{
 "cells": [
  {
   "cell_type": "markdown",
   "metadata": {},
   "source": [
    "## 2.1\n",
    "\n",
    "### Part a\n",
    "The values are printed below. \n",
    "\n",
    "### Part b\n",
    "Prices are definitely endogenous, so the exclusion restriction is violated, so the second moment condition may not be valid.\n",
    "\n",
    "The first moment condition is part of the BLP instrument set. \n",
    "The third moment condition is the condition for Hausman instruments. \n",
    "\n",
    "### Part c"
   ]
  },
  {
   "cell_type": "markdown",
   "metadata": {},
   "source": [
    "## 2.2\n",
    "\n",
    "### Part a\n",
    "BLP Moments\n"
   ]
  }
 ],
 "metadata": {
  "kernelspec": {
   "display_name": "Julia 1.10.4",
   "language": "julia",
   "name": "julia-1.10"
  },
  "language_info": {
   "file_extension": ".jl",
   "mimetype": "application/julia",
   "name": "julia",
   "version": "1.10.4"
  }
 },
 "nbformat": 4,
 "nbformat_minor": 2
}
